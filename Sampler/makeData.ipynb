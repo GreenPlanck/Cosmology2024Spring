{
 "cells": [
  {
   "cell_type": "code",
   "execution_count": 3,
   "id": "7758bde2-13a1-4057-ade5-d16d996a159f",
   "metadata": {},
   "outputs": [],
   "source": [
    "import numpy as np\n",
    "\n",
    "m_true = -3\n",
    "N = 50\n",
    "x = np.sort(10 * np.random.rand(N))\n",
    "\n",
    "def get_theory(theta):\n",
    "    return theta*x\n",
    "\n",
    "ytrue = get_theory(m_true)\n",
    "\n",
    "std = 2\n",
    "\n",
    "def get_obs():\n",
    "    return get_theory(m_true)+np.random.normal(0,std,N)\n",
    "\n",
    "yobs = get_obs()\n"
   ]
  },
  {
   "cell_type": "code",
   "execution_count": 4,
   "id": "c60c2f5b-386c-4afc-99c3-e6440caccea9",
   "metadata": {},
   "outputs": [],
   "source": [
    "data=np.array([x,yobs]).T\n",
    "np.savetxt('temp.txt', data)\n",
    "\n",
    "# 在最终文件中添加注释行和临时文件中的内容\n",
    "with open('toydata.txt', 'w') as final_file:\n",
    "    final_file.write(\"# x y\\n\")\n",
    "    with open('temp.txt', 'r') as temp_file:\n",
    "        for line in temp_file:\n",
    "            final_file.write(line)\n",
    "\n",
    "# 删除临时文件\n",
    "import os\n",
    "os.remove('temp.txt')"
   ]
  },
  {
   "cell_type": "code",
   "execution_count": null,
   "id": "a71d75a2-bb85-4791-97b3-24b4c840e0db",
   "metadata": {},
   "outputs": [],
   "source": []
  }
 ],
 "metadata": {
  "kernelspec": {
   "display_name": "Python 3 (ipykernel)",
   "language": "python",
   "name": "python3"
  },
  "language_info": {
   "codemirror_mode": {
    "name": "ipython",
    "version": 3
   },
   "file_extension": ".py",
   "mimetype": "text/x-python",
   "name": "python",
   "nbconvert_exporter": "python",
   "pygments_lexer": "ipython3",
   "version": "3.11.8"
  }
 },
 "nbformat": 4,
 "nbformat_minor": 5
}
