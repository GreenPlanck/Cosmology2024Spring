{
 "cells": [
  {
   "cell_type": "code",
   "execution_count": null,
   "id": "ed34048d-14e8-4ded-9084-05382f8bc817",
   "metadata": {},
   "outputs": [],
   "source": [
    "# Planck CMB\n",
    "!curl -O https://irsa.ipac.caltech.edu/data/Planck/release_3/all-sky-maps/maps/component-maps/cmb/COM_CMB_IQU-commander_2048_R3.00_full.fits\n"
   ]
  },
  {
   "cell_type": "code",
   "execution_count": null,
   "id": "34edad79-5953-46db-b548-e06f2fe65636",
   "metadata": {},
   "outputs": [],
   "source": [
    "# CMB mask\n",
    "!curl -O https://irsa.ipac.caltech.edu/data/Planck/release_3/ancillary-data/masks/COM_Mask_CMB-common-Mask-Int_2048_R3.00.fits\n"
   ]
  },
  {
   "cell_type": "code",
   "execution_count": 6,
   "id": "86d124b9-bbec-4ef2-bd9f-02c3ffcc7dfc",
   "metadata": {},
   "outputs": [
    {
     "name": "stdout",
     "output_type": "stream",
     "text": [
      "  % Total    % Received % Xferd  Average Speed   Time    Time     Time  Current\n",
      "                                 Dload  Upload   Total   Spent    Left  Speed\n",
      "  0     0    0     0    0     0      0      0 --:--:-- --:--:-- --:--:--     0\n"
     ]
    }
   ],
   "source": [
    "# planck cmap\n",
    "!curl -O https://github.com/zonca/paperplots/raw/master/data/Planck_Parchment_RGB.txt"
   ]
  },
  {
   "cell_type": "code",
   "execution_count": null,
   "id": "3c36d183-9fb4-49b1-b902-07b352920e63",
   "metadata": {},
   "outputs": [],
   "source": [
    "# SDSS DR12 \n",
    "!curl -O https://data.sdss.org/sas/dr12/boss/lss/galaxy_DR12v5_LOWZ_South.fits.gz"
   ]
  },
  {
   "cell_type": "code",
   "execution_count": null,
   "id": "48d12057-a254-4692-8723-8b7807182d10",
   "metadata": {},
   "outputs": [],
   "source": [
    "# SDSS DR12 random\n",
    "!curl -O https://data.sdss.org/sas/dr12/boss/lss/random0_DR12v5_LOWZ_South.fits.gz"
   ]
  }
 ],
 "metadata": {
  "kernelspec": {
   "display_name": "Python 3 (ipykernel)",
   "language": "python",
   "name": "python3"
  },
  "language_info": {
   "codemirror_mode": {
    "name": "ipython",
    "version": 3
   },
   "file_extension": ".py",
   "mimetype": "text/x-python",
   "name": "python",
   "nbconvert_exporter": "python",
   "pygments_lexer": "ipython3",
   "version": "3.11.8"
  }
 },
 "nbformat": 4,
 "nbformat_minor": 5
}
