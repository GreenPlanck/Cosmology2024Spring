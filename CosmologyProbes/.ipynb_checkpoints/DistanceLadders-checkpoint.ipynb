{
 "cells": [
  {
   "cell_type": "markdown",
   "id": "c856100e-e3e8-4732-b79a-ed349fe76d85",
   "metadata": {},
   "source": [
    "# https://github.com/kylargreene/distanceladder"
   ]
  },
  {
   "cell_type": "code",
   "execution_count": 1,
   "id": "1cf4786b-27bc-4047-bc31-c502a4fff789",
   "metadata": {},
   "outputs": [],
   "source": [
    "import os\n",
    "import numpy as np\n",
    "import matplotlib.pyplot as plt\n",
    "from DistanceCal import *\n",
    "from DistanceReader import *\n",
    "from fitting import *"
   ]
  },
  {
   "cell_type": "code",
   "execution_count": 2,
   "id": "0d61e42b-329f-4875-a930-957b3bd8823c",
   "metadata": {},
   "outputs": [],
   "source": [
    "calib = 'cepheid'\n",
    "anchor =['N4258','LMC']\n",
    "supernova_data = 'panth'"
   ]
  },
  {
   "cell_type": "markdown",
   "id": "12a1e3e4-1776-4414-903e-3a4197c63e9a",
   "metadata": {},
   "source": [
    "# Table read"
   ]
  },
  {
   "cell_type": "markdown",
   "id": "0dc68530-92df-4513-b5e0-222e54bc2343",
   "metadata": {},
   "source": [
    "## reads in anchor distance data"
   ]
  },
  {
   "cell_type": "code",
   "execution_count": 3,
   "id": "ae4abb26-ffd3-4abe-8e7a-b32dfbc2dc6b",
   "metadata": {},
   "outputs": [],
   "source": [
    "#read in the data from the tables\n",
    "#file location\n",
    "file = 'anchor_data.txt'\n",
    "        #columns to be read in\n",
    "index_array = [0,1,2]\n",
    "#length of header\n",
    "header_length = 1\n",
    "#deliminator\n",
    "delim = ' '\n",
    "\n",
    "anchor_dat = anchor_reader(file,index_array,header_length,delim)\n",
    "\n",
    "if calib == 'cepheid':\n",
    "    file = 'SHOES_cepheid_data.txt'\n",
    "    index_array = [0,1,2,3,4,5,6,7,8,9]\n",
    "    header_length = 1\n",
    "    delim = ' '\n",
    "\n",
    "    SHOES_ceph = SHOES_ceph_table_reader(file,index_array,header_length,delim)\n",
    "\n",
    "    file = \"LMC_ceph_data.txt\"\n",
    "    index_array = [0,0,2,12,22]\n",
    "    header_length = 1\n",
    "    delim = ' '\n",
    "    LMC_ceph = LMC_ceph_reader(file,index_array,header_length,delim)\n",
    "\n",
    "\n",
    "    # This reads in local SN data from Riess16 table 4\n",
    "\n",
    "    file = 'SHOES_sn_data.txt'\n",
    "    index_array = [0,1,2,3]\n",
    "    header_length = 1\n",
    "    delim = ' '\n",
    "\n",
    "    R16_local_sn = SHOES_sn_table_reader(file,index_array,header_length,delim)\n",
    "\n",
    "\n",
    "# This block is where the hubble flow SN data will be loaded and organized\n",
    "# Pantheon\n",
    "# Steinhardt\n",
    "if supernova_data == 'panth':\n",
    "    file = 'panth_sn_data.txt'\n",
    "    index_array = [0,1,2,3,4,5]\n",
    "    header_length = 1\n",
    "    delim = ' '\n",
    "\n",
    "    PS_sn = panth_sn_table_reader(file,index_array,header_length,delim)\n",
    "\n"
   ]
  },
  {
   "cell_type": "code",
   "execution_count": 4,
   "id": "b8c159c9-aba7-4bd4-868e-c50a314d038f",
   "metadata": {},
   "outputs": [
    {
     "name": "stdout",
     "output_type": "stream",
     "text": [
      "[['N4258', 7576000.0, 158000.0], ['LMC', 49490.0, 630.0]]\n"
     ]
    }
   ],
   "source": [
    "print(anchor_dat)"
   ]
  },
  {
   "cell_type": "code",
   "execution_count": 5,
   "id": "6782d5dc-f3f9-4ad8-adf8-a4f4a3ca7e6c",
   "metadata": {
    "scrolled": true
   },
   "outputs": [
    {
     "name": "stdout",
     "output_type": "stream",
     "text": [
      "['M101', '115287', 17.95, 24.382, 0.011, 23.408, 0.007, 22.47, 0.3, 9.134]\n",
      "1114\n"
     ]
    }
   ],
   "source": [
    "print(SHOES_ceph[0])\n",
    "print(len(SHOES_ceph))"
   ]
  },
  {
   "cell_type": "code",
   "execution_count": null,
   "id": "289dc5e6-12d4-42b1-9eb9-db137c4fb6f3",
   "metadata": {},
   "outputs": [],
   "source": []
  },
  {
   "cell_type": "markdown",
   "id": "a6f469af-9357-4374-9a23-bf277b05a4b1",
   "metadata": {},
   "source": [
    "# CONSTRUCT DATA DICTIONARIES from table"
   ]
  },
  {
   "cell_type": "code",
   "execution_count": 6,
   "id": "b7ef007b-7635-489c-bf50-9fbe418c1364",
   "metadata": {},
   "outputs": [],
   "source": [
    "# This takes the imported anchor data, and places it into an anchor \n",
    "#data class instance\n",
    "\n",
    "# NGC4258 Megamaser\n",
    "# LMC DEB\n",
    "anchor_dict = {}\n",
    "\n",
    "for i in range(len(anchor_dat)):\n",
    "    key = anchor_dat[i][0]\n",
    "    value = Anchor(anchor_dat[i][0],anchor_dat[i][1],anchor_dat[i][2])\n",
    "    anchor_dict[key] = value "
   ]
  },
  {
   "cell_type": "code",
   "execution_count": 7,
   "id": "2e84874f-3cb1-46a2-b0d3-42383078bf8a",
   "metadata": {},
   "outputs": [
    {
     "name": "stdout",
     "output_type": "stream",
     "text": [
      "SH0ES_ceph mh is added\n"
     ]
    }
   ],
   "source": [
    "# This takes the imported cepheid data, creates a dictionary where \n",
    "# the elements of the dictionary are instances\n",
    "# of the cephied class.\n",
    "# For clarity the dictionary contains elements organized by host galaxy, \n",
    "# each element containing all cephieds in that host.\n",
    "if calib == 'cepheid':\n",
    "    print('SH0ES_ceph mh is added')\n",
    "    \n",
    "    hosts=[]\n",
    "    for i in range(len(SHOES_ceph)):\n",
    "        hosts.append(SHOES_ceph[i][0])\n",
    "    hosts = np.unique(hosts)\n",
    "\n",
    "\n",
    "    ceph_dict = {}\n",
    "\n",
    "    for i in range(len(hosts)):\n",
    "        temp=[]\n",
    "        \n",
    "        for j in range(len(SHOES_ceph)):\n",
    "            if hosts[i] == SHOES_ceph[j][0]:\n",
    "                temp.append(SHOES_ceph[j])\n",
    "            \n",
    "        k = len(temp)\n",
    "        host = []\n",
    "        ID = []\n",
    "        per = np.zeros(k)\n",
    "        V = np.zeros(k)\n",
    "        dV = np.zeros(k)\n",
    "        I = np.zeros(k)\n",
    "        dI = np.zeros(k)\n",
    "        NIR = np.zeros(k)\n",
    "        dNIR = np.zeros(k)\n",
    "        OH = np.zeros(k)\n",
    "            \n",
    "        key = hosts[i]\n",
    "\n",
    "        \n",
    "        for l in range(len(temp)):\n",
    "            host.append(temp[l][0])\n",
    "            ID.append(temp[l][1])\n",
    "            per[l] = temp[l][2]\n",
    "            V[l] = temp[l][3]\n",
    "            dV[l] = temp[l][4]\n",
    "            I[l] = temp[l][5]\n",
    "            dI[l] =  temp[l][6]\n",
    "            NIR[l] = temp[l][7]\n",
    "            dNIR[l] = temp[l][8]\n",
    "            OH[l] = temp[l][9]\n",
    "\n",
    "\n",
    "        value = SHOES_ceph_data(host,ID,per,V,dV,I,dI,NIR,dNIR,OH)\n",
    "        \n",
    "        ceph_dict[key] = value\n",
    "\n",
    "    host = [i[0] for i in LMC_ceph]\n",
    "    idceph =[i[1] for i in LMC_ceph]\n",
    "    period = [i[2] for i in LMC_ceph]\n",
    "    mh = [i[3] for i in LMC_ceph]\n",
    "    dmh = [i[4] for i in LMC_ceph]\n",
    "    value = LMC_ceph_data(host,idceph,period,mh,dmh)\n",
    "    ceph_dict['LMC'] = value\n",
    "    ceph_dict['LMC'].Period = 10**np.array(ceph_dict['LMC'].Period)\n",
    "    ceph_dict['LMC'].mh = np.array(ceph_dict['LMC'].mh)\n",
    "    ceph_dict['LMC'].dmh = np.array(ceph_dict['LMC'].dmh)"
   ]
  },
  {
   "cell_type": "code",
   "execution_count": 8,
   "id": "b02bf67c-7b31-4f24-b581-345a33695a95",
   "metadata": {},
   "outputs": [],
   "source": [
    "# This takes the imported local SN data, creates a diction \n",
    "#where where the elements of the dictionary are instances\n",
    "# of the local SN class\n",
    "if calib == 'cepheid':\n",
    "    hosts=[]\n",
    "    for i in range(len(R16_local_sn)):\n",
    "        hosts.append(R16_local_sn[i][0])\n",
    "    hosts = np.unique(hosts)\n",
    "\n",
    "    local_sn_dict = {}\n",
    "\n",
    "    for i in range(len(hosts)):\n",
    "        temp=[]\n",
    "        \n",
    "        for j in range(len(R16_local_sn)):\n",
    "            if hosts[i] == R16_local_sn[j][0]:\n",
    "                temp.append(R16_local_sn[j])\n",
    "            \n",
    "        k = len(temp)\n",
    "        host = []\n",
    "        ID = []\n",
    "        m = np.zeros(k)\n",
    "        dm = np.zeros(k)\n",
    "        \n",
    "        key = hosts[i]\n",
    "        \n",
    "        for l in range(len(temp)):\n",
    "            host.append(temp[l][0])\n",
    "            ID.append(temp[l][1])\n",
    "            m[l] = temp[l][2]\n",
    "            dm[l] = temp[l][3]\n",
    "\n",
    "\n",
    "        value = Local_SN_data(host,ID,m,dm)\n",
    "        local_sn_dict[key] = value\n",
    "\n",
    "\n",
    "# this block is where the hubble flow sn data will be oragnized \n",
    "#into the hubble flow sn class\n",
    "if supernova_data == 'panth':\n",
    "    k = len(PS_sn)\n",
    "    ID = []\n",
    "    z_hel = np.zeros(k)\n",
    "    z_cmb = np.zeros(k)\n",
    "    dz = np.zeros(k)\n",
    "    m = np.zeros(k)\n",
    "    dm = np.zeros(k)\n",
    "\n",
    "    for i in range(len(PS_sn)):\n",
    "\n",
    "        ID.append(PS_sn[i][0])\n",
    "        z_hel[i] = PS_sn[i][1]\n",
    "        z_cmb[i] = PS_sn[i][2]\n",
    "        dz[i] = PS_sn[i][3]\n",
    "        m[i] = PS_sn[i][4]\n",
    "        dm[i] = PS_sn[i][5]\n",
    "\n",
    "    hubble_sn = Hubble_SN_data(ID,z_hel,z_cmb,dz,m,dm)\n",
    "    \n",
    "\n"
   ]
  },
  {
   "cell_type": "code",
   "execution_count": null,
   "id": "73ecbe9f-cef4-4a96-82f5-7fcc7629d88c",
   "metadata": {},
   "outputs": [],
   "source": []
  },
  {
   "cell_type": "code",
   "execution_count": null,
   "id": "5dde2614-06fd-47f9-a13c-f465c6a0a95f",
   "metadata": {},
   "outputs": [],
   "source": []
  },
  {
   "cell_type": "code",
   "execution_count": null,
   "id": "c39be451-4b9e-400f-b6e9-f686524d55d4",
   "metadata": {},
   "outputs": [],
   "source": []
  },
  {
   "cell_type": "code",
   "execution_count": null,
   "id": "c6fb0872-4c84-4856-9bdc-1b6ca529d0bc",
   "metadata": {},
   "outputs": [],
   "source": []
  },
  {
   "cell_type": "code",
   "execution_count": null,
   "id": "7d3d0bc6-b163-4402-b073-d6340ab0bf77",
   "metadata": {},
   "outputs": [],
   "source": []
  },
  {
   "cell_type": "markdown",
   "id": "f0af85ba-6cfd-4776-a6bc-2d1207a62033",
   "metadata": {},
   "source": [
    "#  CALCULATIONS"
   ]
  },
  {
   "cell_type": "markdown",
   "id": "848155ed-f8ec-4455-86b0-6e6e092940be",
   "metadata": {},
   "source": [
    "## from geometry distance of anchors to Mceph and mu of SH0ES_ceph"
   ]
  },
  {
   "cell_type": "code",
   "execution_count": 9,
   "id": "f1c42544-3032-4ab1-8705-5451c8b34e2c",
   "metadata": {},
   "outputs": [
    {
     "name": "stdout",
     "output_type": "stream",
     "text": [
      "based on the distance of anchor LMC N4258, get the Mceph -6.004854376292982\n",
      "the observation gives us mh for ceph; based on anchor's Mceph, get the mu of SHOES_ceph\n"
     ]
    }
   ],
   "source": [
    "if calib == 'cepheid':\n",
    "    # This block is where M_ceph will be calculated from each Anchor\n",
    "    for i in anchor:\n",
    "        # period is divided by 10 as does by Esthafio (2020)\n",
    "        period = np.log10(ceph_dict[i].Period/10)\n",
    "        dperiod = np.zeros(len(period))\n",
    "        mh = ceph_dict[i].mh\n",
    "        dmh = ceph_dict[i].dmh\n",
    "\n",
    "        anchor_dict[i].Compute_abs_ceph_mag(period,dperiod,mh,dmh)\n",
    "    num = 0\n",
    "    dem = 0\n",
    "    Mceph = 0\n",
    "    dMceph = 0\n",
    "    for i in anchor:\n",
    "        num += anchor_dict[i].dMceph*anchor_dict[i].Mceph\n",
    "        dem += anchor_dict[i].dMceph\n",
    "        dMceph += anchor_dict[i].dMceph**2\n",
    "    Mceph = num/dem\n",
    "    print('based on the distance of anchor LMC N4258, get the Mceph',Mceph)\n",
    "    dMceph = np.sqrt(dMceph)\n",
    "    # This is where the slope of the cephied PL relationship is defined\n",
    "\n",
    "    slope_array = np.zeros(len(ceph_dict))\n",
    "    dslope_array = np.zeros(len(ceph_dict))\n",
    "    w_slope_array = np.zeros(len(ceph_dict))\n",
    "    w_dslope_array = np.zeros(len(ceph_dict))\n",
    "    count = 0 \n",
    "    tot = 0\n",
    "    # the following 3 lines are parameters for the york fit and may be \n",
    "    #removed in future updates\n",
    "    r = 0\n",
    "    tol = 10**-15\n",
    "    n = 20\n",
    "\n",
    "    for key in ceph_dict:\n",
    "        x = np.log10(ceph_dict[key].Period/10)\n",
    "        xerror = np.zeros(len(x))\n",
    "        y = ceph_dict[key].mh\n",
    "        yerror = ceph_dict[key].dmh\n",
    "        \n",
    "        [B_0, B_1, sigma_B_0, sigma_B_1, b_save, B_0_simple, B_1_simple] = york_fit(x,y,xerror,yerror,r,tol,n)\n",
    "        \n",
    "        # this calculates the weighted slope and weighted error of the slope for \n",
    "    #each cephied host galaxy\n",
    "        weight = len(x)\n",
    "        tot += weight\n",
    "        w_slope_array[count] = B_1*weight\n",
    "        w_dslope_array[count] = np.power(sigma_B_1,2)*weight\n",
    "        count+=1\n",
    "\n",
    "    # This calculates the overall slope of the PL relationship for cephieds, and its error\n",
    "    slope = sum(w_slope_array)/tot\n",
    "    dslope = np.sqrt(sum(w_dslope_array)/tot)/np.sqrt(len(ceph_dict))\n",
    "\n",
    "    print(\"the observation gives us mh for ceph; based on anchor's Mceph, get the mu of SHOES_ceph\")\n",
    "    for key in ceph_dict:\n",
    "        period = np.log10(ceph_dict[key].Period/10)\n",
    "        dperiod = np.zeros(len(period))\n",
    "        mh = ceph_dict[key].mh\n",
    "        dmh = ceph_dict[key].dmh\n",
    "        \n",
    "        ceph_dict[key].proto_Compute_mu(mh,dmh,period,dperiod,Mceph,dMceph,slope,dslope)"
   ]
  },
  {
   "cell_type": "markdown",
   "id": "677ebb83-a47c-40b8-a102-9371a053b184",
   "metadata": {},
   "source": [
    "## from mu of SH0ES_ceph to mu of local_sn and then get Msn\n",
    "\n",
    "SH0ES_cepth and SH0ES_sn/local_sn should have the same distance module"
   ]
  },
  {
   "cell_type": "code",
   "execution_count": 10,
   "id": "a5fc7dc4-9ef8-4447-aa3d-d20c595d0e87",
   "metadata": {},
   "outputs": [
    {
     "name": "stdout",
     "output_type": "stream",
     "text": [
      "get Msn based on ceph mu\n"
     ]
    },
    {
     "name": "stderr",
     "output_type": "stream",
     "text": [
      "/var/folders/2x/rv34yy5954lf_chxzn0kbl440000gn/T/ipykernel_30190/2610529505.py:15: DeprecationWarning: Conversion of an array with ndim > 0 to a scalar is deprecated, and will error in future. Ensure you extract a single element from your array before performing this operation. (Deprecated NumPy 1.25.)\n",
      "  y.append(float(local_sn_dict[key].m))\n",
      "/var/folders/2x/rv34yy5954lf_chxzn0kbl440000gn/T/ipykernel_30190/2610529505.py:17: DeprecationWarning: Conversion of an array with ndim > 0 to a scalar is deprecated, and will error in future. Ensure you extract a single element from your array before performing this operation. (Deprecated NumPy 1.25.)\n",
      "  yerror.append(float(local_sn_dict[key].dm))\n"
     ]
    }
   ],
   "source": [
    "# This block is where Msn will be calculated from SN hosts\n",
    "x = []\n",
    "y = []\n",
    "xerror = []\n",
    "yerror = []\n",
    "\n",
    "if calib == 'cepheid':\n",
    "\n",
    "    for key in local_sn_dict:\n",
    "        \n",
    "        local_sn_dict[key].mu = ceph_dict[key].mu\n",
    "        local_sn_dict[key].dmu = ceph_dict[key].dmu\n",
    "\n",
    "        x.append(local_sn_dict[key].mu)\n",
    "        y.append(float(local_sn_dict[key].m))\n",
    "        xerror.append(local_sn_dict[key].dmu)\n",
    "        yerror.append(float(local_sn_dict[key].dm))\n",
    "\n",
    "    x = np.array(x)\n",
    "    y = np.array(y)\n",
    "    xerror = np.array(xerror)\n",
    "    yerror = np.array(yerror)\n",
    "\n",
    "    [Msn, B1, dMsn, sigma_B1] = weighted_fixed_slope(x,y,1,0,xerror,yerror)\n",
    "\n",
    "    # This block is where DM_sn_obs will be calculated for each SN\n",
    "\n",
    "print('get Msn based on ceph mu')"
   ]
  },
  {
   "cell_type": "markdown",
   "id": "9f4a5c21-7c12-491a-92ef-65a9b23b83ac",
   "metadata": {},
   "source": [
    "## panth gives us m and from Msn we have mu of hubble_sn; cosmo_mu from redshift given by panth"
   ]
  },
  {
   "cell_type": "code",
   "execution_count": 11,
   "id": "c8561589-84e7-4605-807d-4517214cc3ff",
   "metadata": {},
   "outputs": [
    {
     "name": "stdout",
     "output_type": "stream",
     "text": [
      "get mu of hubble_sn based on Msn from local SN\n",
      "Cepheid Calibration\n",
      "Anchors Used: ['N4258', 'LMC']\n",
      "Abs. Ceph. Mag: -6.004854376292982\n",
      "Abs. Ceph. Mag Error: 0.06704640151165074\n",
      "\n",
      "P-L Slope: -3.0662326765858308\n",
      "P-L Slope Error: 0.06982400258653669\n",
      "\n",
      "Msn: -19.22593144744539\n",
      "dMsn: 0.03898693870027921\n"
     ]
    }
   ],
   "source": [
    "print('get mu of hubble_sn based on Msn from local SN')\n",
    "m = hubble_sn.m\n",
    "dm = hubble_sn.dm\n",
    "hubble_sn.Compute_hubble_mu(m,dm,Msn,dMsn)\n",
    "\n",
    "\n",
    "#passes data to loglkl\n",
    "hubble_mu = hubble_sn.mu\n",
    "hubble_dmu = hubble_sn.dmu\n",
    "hubble_z = hubble_sn.z_cmb\n",
    "hubble_dz = hubble_sn.dz\n",
    "hubble_dm = dm\n",
    "hubble_dMsn = dMsn\n",
    "\n",
    "if calib == 'cepheid':\n",
    "    print(\"Cepheid Calibration\")\n",
    "    print(\"Anchors Used:\", anchor)\n",
    "    print(\"Abs. Ceph. Mag:\", Mceph)\n",
    "    print(\"Abs. Ceph. Mag Error:\",dMceph)\n",
    "    print('')\n",
    "    print(\"P-L Slope:\", slope)\n",
    "    print(\"P-L Slope Error:\", dslope)\n",
    "    print('')\n",
    "\n",
    "print(\"Msn:\",Msn)\n",
    "print(\"dMsn:\",dMsn)"
   ]
  },
  {
   "cell_type": "code",
   "execution_count": 12,
   "id": "8d28779a-8f5f-4310-b2b7-9237c0437e40",
   "metadata": {},
   "outputs": [],
   "source": [
    "\n",
    "def loglkl(cosmo, data):\n",
    "\n",
    "    z = hubble_z\n",
    "    dz = hubble_dz\n",
    "    dMsn = hubble_dMsn\n",
    "    dm = hubble_dm\t\t\n",
    "\n",
    "    k = len(hubble_dmu)\n",
    "\n",
    "    cosmo_mu = np.zeros(k)\n",
    "    jac = np.zeros(k)\n",
    "\n",
    "\n",
    "    # Compute the distance modulus according the to presented cosmological model\n",
    "    for i in range(k):\n",
    "\n",
    "        cosmo_mu[i] = 5*np.log10(cosmo.luminosity_distance(z[i]))+25\n",
    "        jac[i] = ((1+z[i])/cosmo.Hubble(z[i]))+(cosmo.luminosity_distance(z[i])/(1+z[i]))\n",
    "\n",
    "    # compute the difference between distance modulus from the cosmological model and the local distance ladder\n",
    "    residuals = np.zeros(k)\n",
    "    residuals = hubble_mu - cosmo_mu\n",
    "\n",
    "    cov = np.diag(dm**2+(jac*dz)**2)\n",
    "\n",
    "    systematic = np.ones((k,k))*dMsn**2\n",
    "\n",
    "    cov = cov + systematic\n",
    "\n",
    "    cov = la.cholesky(cov, lower=True, overwrite_a=True)\n",
    "\n",
    "    residuals = la.solve_triangular(cov,residuals, lower=True, check_finite=False)\n",
    "    \n",
    "    chi2 = (residuals**2).sum()\n",
    "    \n",
    "\n",
    "    lkl = -0.5*chi2\n",
    "\n",
    "    sort = np.argsort(z)\n",
    "\n",
    "    return z[sort], cosmo_mu[sort],hubble_mu[sort]\n",
    "\n",
    "\n",
    "\t\t\n",
    "\n",
    "\t\t\n"
   ]
  },
  {
   "cell_type": "code",
   "execution_count": 13,
   "id": "6d349526-5d46-495c-b002-856c36bac508",
   "metadata": {},
   "outputs": [],
   "source": [
    "from classy import Class\n",
    "m=Class()\n",
    "m.compute()\n"
   ]
  },
  {
   "cell_type": "code",
   "execution_count": null,
   "id": "ffa6a188-3fea-4eeb-8c67-bdab44226eee",
   "metadata": {},
   "outputs": [],
   "source": []
  },
  {
   "cell_type": "code",
   "execution_count": 14,
   "id": "544ca0c7-4bfe-4625-85cd-69fded78e574",
   "metadata": {},
   "outputs": [
    {
     "data": {
      "text/plain": [
       "[<matplotlib.lines.Line2D at 0x136383d50>]"
      ]
     },
     "execution_count": 14,
     "metadata": {},
     "output_type": "execute_result"
    },
    {
     "data": {
      "image/png": "[encoded data removed]",
      "text/plain": [
       "<Figure size 640x480 with 1 Axes>"
      ]
     },
     "metadata": {},
     "output_type": "display_data"
    }
   ],
   "source": [
    "z,cosmo_mu,hubble_mu=loglkl(m,None)\n",
    "plt.plot(z,cosmo_mu)\n",
    "plt.plot(z,hubble_mu,'o',alpha=0.1)"
   ]
  },
  {
   "cell_type": "code",
   "execution_count": 15,
   "id": "07cddaa6-f63f-4ffd-9c41-00906a81a160",
   "metadata": {},
   "outputs": [
    {
     "data": {
      "text/plain": [
       "[<matplotlib.lines.Line2D at 0x13673a450>]"
      ]
     },
     "execution_count": 15,
     "metadata": {},
     "output_type": "execute_result"
    },
    {
     "data": {
      "image/png": "[encoded data removed]",
      "text/plain": [
       "<Figure size 640x480 with 1 Axes>"
      ]
     },
     "metadata": {},
     "output_type": "display_data"
    }
   ],
   "source": [
    "x=np.linspace(18,47,100)\n",
    "plt.plot(x,x,'--')\n",
    "for key in ['LMC','N4258']:\n",
    "    plt.plot(5*np.log10(1e-6*anchor_dict[key].Dist)+25,ceph_dict[key].mu,'ro')\n",
    "    plt.plot(5*np.log10(1e-6*anchor_dict[key].Dist)+25,ceph_dict[key].mu,'ro')\n",
    "\n",
    "\n",
    "local_sn_mu_from_ceph = [local_sn_dict[key].mu for key in local_sn_dict]\n",
    "local_sn_m_M = [local_sn_dict[key].m-Msn for key in local_sn_dict]\n",
    "plt.plot(local_sn_mu_from_ceph,local_sn_m_M,'o')\n",
    "\n",
    "plt.plot(cosmo_mu,hubble_mu,'o')\n",
    "#plt.xlabel('mu from distance ladder')\n",
    "#plt.ylabel('mu from model+redshift')"
   ]
  },
  {
   "cell_type": "code",
   "execution_count": null,
   "id": "2c7febb5-ee75-4a79-9c25-94a0bab97e86",
   "metadata": {},
   "outputs": [],
   "source": []
  }
 ],
 "metadata": {
  "kernelspec": {
   "display_name": "Python 3 (ipykernel)",
   "language": "python",
   "name": "python3"
  },
  "language_info": {
   "codemirror_mode": {
    "name": "ipython",
    "version": 3
   },
   "file_extension": ".py",
   "mimetype": "text/x-python",
   "name": "python",
   "nbconvert_exporter": "python",
   "pygments_lexer": "ipython3",
   "version": "3.11.8"
  }
 },
 "nbformat": 4,
 "nbformat_minor": 5
}
